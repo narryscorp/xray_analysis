{
 "cells": [
  {
   "cell_type": "code",
   "execution_count": 1,
   "id": "da9ad2dc",
   "metadata": {},
   "outputs": [],
   "source": [
    "!sudo chown -R jupyter:jupyter /home/jupyter/xray_analysis/"
   ]
  },
  {
   "cell_type": "code",
   "execution_count": 2,
   "id": "852d29c2",
   "metadata": {},
   "outputs": [
    {
     "name": "stdout",
     "output_type": "stream",
     "text": [
      "2.6.0-dev20210620\n"
     ]
    }
   ],
   "source": [
    "import os\n",
    "import shutil\n",
    "import datetime\n",
    "\n",
    "import matplotlib.pyplot as plt\n",
    "import numpy as np\n",
    "import tensorflow as tf\n",
    "from tensorflow.keras import Sequential\n",
    "from tensorflow.keras.callbacks import ModelCheckpoint, TensorBoard\n",
    "from tensorflow.keras.layers import Dense, Flatten, Softmax\n",
    "\n",
    "print(tf.__version__)"
   ]
  },
  {
   "cell_type": "code",
   "execution_count": 3,
   "id": "bab4c78d",
   "metadata": {},
   "outputs": [
    {
     "name": "stdout",
     "output_type": "stream",
     "text": [
      "Requirement already satisfied: tf-nightly in /home/jupyter/.local/lib/python3.7/site-packages (2.6.0.dev20210620)\n",
      "Requirement already satisfied: h5py~=3.1.0 in /home/jupyter/.local/lib/python3.7/site-packages (from tf-nightly) (3.1.0)\n",
      "Requirement already satisfied: absl-py~=0.10 in /home/jupyter/.local/lib/python3.7/site-packages (from tf-nightly) (0.13.0)\n",
      "Requirement already satisfied: typing-extensions~=3.7.4 in /opt/conda/lib/python3.7/site-packages (from tf-nightly) (3.7.4.3)\n",
      "Requirement already satisfied: flatbuffers~=1.12.0 in /home/jupyter/.local/lib/python3.7/site-packages (from tf-nightly) (1.12)\n",
      "Requirement already satisfied: keras-preprocessing~=1.1.2 in /home/jupyter/.local/lib/python3.7/site-packages (from tf-nightly) (1.1.2)\n",
      "Requirement already satisfied: clang~=5.0 in /home/jupyter/.local/lib/python3.7/site-packages (from tf-nightly) (5.0)\n",
      "Requirement already satisfied: wheel~=0.35 in /opt/conda/lib/python3.7/site-packages (from tf-nightly) (0.36.2)\n",
      "Requirement already satisfied: tf-estimator-nightly~=2.6.0.dev in /home/jupyter/.local/lib/python3.7/site-packages (from tf-nightly) (2.6.0.dev2021061601)\n",
      "Requirement already satisfied: opt-einsum~=3.3.0 in /opt/conda/lib/python3.7/site-packages (from tf-nightly) (3.3.0)\n",
      "Requirement already satisfied: protobuf>=3.9.2 in /opt/conda/lib/python3.7/site-packages (from tf-nightly) (3.16.0)\n",
      "Requirement already satisfied: grpcio<2.0,>=1.37.0 in /opt/conda/lib/python3.7/site-packages (from tf-nightly) (1.38.0)\n",
      "Requirement already satisfied: gast==0.4.0 in /home/jupyter/.local/lib/python3.7/site-packages (from tf-nightly) (0.4.0)\n",
      "Requirement already satisfied: astunparse~=1.6.3 in /home/jupyter/.local/lib/python3.7/site-packages (from tf-nightly) (1.6.3)\n",
      "Requirement already satisfied: numpy~=1.19.2 in /opt/conda/lib/python3.7/site-packages (from tf-nightly) (1.19.5)\n",
      "Requirement already satisfied: wrapt~=1.12.1 in /opt/conda/lib/python3.7/site-packages (from tf-nightly) (1.12.1)\n",
      "Requirement already satisfied: termcolor~=1.1.0 in /opt/conda/lib/python3.7/site-packages (from tf-nightly) (1.1.0)\n",
      "Requirement already satisfied: tb-nightly~=2.6.0.a in /home/jupyter/.local/lib/python3.7/site-packages (from tf-nightly) (2.6.0a20210615)\n",
      "Requirement already satisfied: six~=1.15.0 in /home/jupyter/.local/lib/python3.7/site-packages (from tf-nightly) (1.15.0)\n",
      "Requirement already satisfied: keras-nightly~=2.6.0.dev in /home/jupyter/.local/lib/python3.7/site-packages (from tf-nightly) (2.6.0.dev2021062000)\n",
      "Requirement already satisfied: google-pasta~=0.2 in /opt/conda/lib/python3.7/site-packages (from tf-nightly) (0.2.0)\n",
      "Requirement already satisfied: cached-property in /home/jupyter/.local/lib/python3.7/site-packages (from h5py~=3.1.0->tf-nightly) (1.5.2)\n",
      "Requirement already satisfied: google-auth-oauthlib<0.5,>=0.4.1 in /opt/conda/lib/python3.7/site-packages (from tb-nightly~=2.6.0.a->tf-nightly) (0.4.4)\n",
      "Requirement already satisfied: tensorboard-data-server<0.7.0,>=0.6.0 in /opt/conda/lib/python3.7/site-packages (from tb-nightly~=2.6.0.a->tf-nightly) (0.6.1)\n",
      "Requirement already satisfied: markdown>=2.6.8 in /opt/conda/lib/python3.7/site-packages (from tb-nightly~=2.6.0.a->tf-nightly) (3.3.4)\n",
      "Requirement already satisfied: setuptools>=41.0.0 in /opt/conda/lib/python3.7/site-packages (from tb-nightly~=2.6.0.a->tf-nightly) (49.6.0.post20210108)\n",
      "Requirement already satisfied: werkzeug>=0.11.15 in /opt/conda/lib/python3.7/site-packages (from tb-nightly~=2.6.0.a->tf-nightly) (2.0.1)\n",
      "Requirement already satisfied: tensorboard-plugin-wit>=1.6.0 in /opt/conda/lib/python3.7/site-packages (from tb-nightly~=2.6.0.a->tf-nightly) (1.8.0)\n",
      "Requirement already satisfied: google-auth<2,>=1.6.3 in /opt/conda/lib/python3.7/site-packages (from tb-nightly~=2.6.0.a->tf-nightly) (1.30.0)\n",
      "Requirement already satisfied: requests<3,>=2.21.0 in /opt/conda/lib/python3.7/site-packages (from tb-nightly~=2.6.0.a->tf-nightly) (2.25.1)\n",
      "Requirement already satisfied: rsa<5,>=3.1.4 in /opt/conda/lib/python3.7/site-packages (from google-auth<2,>=1.6.3->tb-nightly~=2.6.0.a->tf-nightly) (4.7.2)\n",
      "Requirement already satisfied: cachetools<5.0,>=2.0.0 in /opt/conda/lib/python3.7/site-packages (from google-auth<2,>=1.6.3->tb-nightly~=2.6.0.a->tf-nightly) (4.2.2)\n",
      "Requirement already satisfied: pyasn1-modules>=0.2.1 in /opt/conda/lib/python3.7/site-packages (from google-auth<2,>=1.6.3->tb-nightly~=2.6.0.a->tf-nightly) (0.2.7)\n",
      "Requirement already satisfied: requests-oauthlib>=0.7.0 in /opt/conda/lib/python3.7/site-packages (from google-auth-oauthlib<0.5,>=0.4.1->tb-nightly~=2.6.0.a->tf-nightly) (1.3.0)\n",
      "Requirement already satisfied: importlib-metadata in /opt/conda/lib/python3.7/site-packages (from markdown>=2.6.8->tb-nightly~=2.6.0.a->tf-nightly) (4.2.0)\n",
      "Requirement already satisfied: pyasn1<0.5.0,>=0.4.6 in /opt/conda/lib/python3.7/site-packages (from pyasn1-modules>=0.2.1->google-auth<2,>=1.6.3->tb-nightly~=2.6.0.a->tf-nightly) (0.4.8)\n",
      "Requirement already satisfied: certifi>=2017.4.17 in /opt/conda/lib/python3.7/site-packages (from requests<3,>=2.21.0->tb-nightly~=2.6.0.a->tf-nightly) (2020.12.5)\n",
      "Requirement already satisfied: idna<3,>=2.5 in /opt/conda/lib/python3.7/site-packages (from requests<3,>=2.21.0->tb-nightly~=2.6.0.a->tf-nightly) (2.10)\n",
      "Requirement already satisfied: urllib3<1.27,>=1.21.1 in /opt/conda/lib/python3.7/site-packages (from requests<3,>=2.21.0->tb-nightly~=2.6.0.a->tf-nightly) (1.26.5)\n",
      "Requirement already satisfied: chardet<5,>=3.0.2 in /opt/conda/lib/python3.7/site-packages (from requests<3,>=2.21.0->tb-nightly~=2.6.0.a->tf-nightly) (4.0.0)\n",
      "Requirement already satisfied: oauthlib>=3.0.0 in /opt/conda/lib/python3.7/site-packages (from requests-oauthlib>=0.7.0->google-auth-oauthlib<0.5,>=0.4.1->tb-nightly~=2.6.0.a->tf-nightly) (3.0.1)\n",
      "Requirement already satisfied: zipp>=0.5 in /opt/conda/lib/python3.7/site-packages (from importlib-metadata->markdown>=2.6.8->tb-nightly~=2.6.0.a->tf-nightly) (3.4.1)\n"
     ]
    }
   ],
   "source": [
    "# to access data from dir using keras.preprocessing.image_dataset_from_directory\n",
    "!python3 -m pip install --user tf-nightly"
   ]
  },
  {
   "cell_type": "code",
   "execution_count": 4,
   "id": "00f7b55b",
   "metadata": {},
   "outputs": [
    {
     "name": "stdout",
     "output_type": "stream",
     "text": [
      "Found 5217 files belonging to 2 classes.\n",
      "Using 4174 files for training.\n"
     ]
    }
   ],
   "source": [
    "img_height, img_width = 180, 180\n",
    "batch_size = 32\n",
    "training_data_dir = '/home/jupyter/t3-chest-xray-uscentral/chest_xray/train'\n",
    "train_ds = tf.keras.preprocessing.image_dataset_from_directory(\n",
    "    training_data_dir,\n",
    "    validation_split=0.2,\n",
    "    subset='training',\n",
    "    seed=123,\n",
    "    image_size=(img_height, img_width),\n",
    "    batch_size=batch_size)\n"
   ]
  },
  {
   "cell_type": "code",
   "execution_count": 5,
   "id": "bc62ece8",
   "metadata": {},
   "outputs": [
    {
     "name": "stdout",
     "output_type": "stream",
     "text": [
      "['NORMAL', 'PNEUMONIA']\n"
     ]
    }
   ],
   "source": [
    "class_names = train_ds.class_names\n",
    "print(class_names)"
   ]
  },
  {
   "cell_type": "code",
   "execution_count": 6,
   "id": "8eea08a3",
   "metadata": {},
   "outputs": [
    {
     "name": "stdout",
     "output_type": "stream",
     "text": [
      "Found 5217 files belonging to 2 classes.\n",
      "Using 1043 files for validation.\n"
     ]
    }
   ],
   "source": [
    "val_ds = tf.keras.preprocessing.image_dataset_from_directory(\n",
    "    training_data_dir,\n",
    "    validation_split=0.2,\n",
    "    subset='validation',\n",
    "    seed=123,\n",
    "    image_size=(img_height, img_width),\n",
    "    batch_size=batch_size)"
   ]
  },
  {
   "cell_type": "code",
   "execution_count": 7,
   "id": "02d758dd",
   "metadata": {},
   "outputs": [
    {
     "name": "stdout",
     "output_type": "stream",
     "text": [
      "(32, 180, 180, 3)\n",
      "(32,)\n"
     ]
    }
   ],
   "source": [
    "for image_batch, labels_batch in train_ds:\n",
    "  print(image_batch.shape)\n",
    "  print(labels_batch.shape)\n",
    "  break"
   ]
  },
  {
   "cell_type": "code",
   "execution_count": 8,
   "id": "5a55b1f2",
   "metadata": {},
   "outputs": [
    {
     "name": "stdout",
     "output_type": "stream",
     "text": [
      "0.044043437 0.8585584\n"
     ]
    }
   ],
   "source": [
    "from tensorflow.keras import layers\n",
    "\n",
    "normalization_layer = tf.keras.layers.experimental.preprocessing.Rescaling(1./255)\n",
    "\n",
    "normalized_ds = train_ds.map(lambda x, y: (normalization_layer(x), y))\n",
    "image_batch, labels_batch = next(iter(normalized_ds))\n",
    "first_image = image_batch[0]\n",
    "# Notice the pixels values are now in `[0,1]`.\n",
    "print(np.min(first_image), np.max(first_image))"
   ]
  },
  {
   "cell_type": "code",
   "execution_count": 9,
   "id": "4b024fb9",
   "metadata": {},
   "outputs": [],
   "source": [
    "AUTOTUNE = tf.data.AUTOTUNE\n",
    "\n",
    "train_ds = train_ds.cache().prefetch(buffer_size=AUTOTUNE)\n",
    "val_ds = val_ds.cache().prefetch(buffer_size=AUTOTUNE)"
   ]
  },
  {
   "cell_type": "code",
   "execution_count": 10,
   "id": "6061ccab",
   "metadata": {},
   "outputs": [],
   "source": [
    "def get_label(file_path):\n",
    "  # convert the path to a list of path components\n",
    "  parts = tf.strings.split(file_path, os.path.sep)\n",
    "  # The second to last is the class-directory\n",
    "  one_hot = parts[-2] == class_names\n",
    "  # Integer encode the label\n",
    "  return tf.argmax(one_hot)\n",
    "\n",
    "def process_path(file_path):\n",
    "  label = get_label(file_path)\n",
    "  # load the raw data from the file as a string\n",
    "  img = tf.io.read_file(file_path)\n",
    "  img = decode_img(img)\n",
    "  return img, label"
   ]
  },
  {
   "cell_type": "code",
   "execution_count": 11,
   "id": "350249bf",
   "metadata": {},
   "outputs": [],
   "source": [
    "num_classes = 2\n",
    "model = tf.keras.Sequential([\n",
    "  layers.experimental.preprocessing.Rescaling(1./255),\n",
    "  layers.Conv2D(32, 3, activation='relu'),\n",
    "  layers.MaxPooling2D(),\n",
    "  layers.Conv2D(32, 3, activation='relu'),\n",
    "  layers.MaxPooling2D(),\n",
    "  layers.Conv2D(32, 3, activation='relu'),\n",
    "  layers.MaxPooling2D(),\n",
    "  layers.Flatten(),\n",
    "  layers.Dense(128, activation='relu'),\n",
    "  layers.Dense(num_classes)\n",
    "])"
   ]
  },
  {
   "cell_type": "code",
   "execution_count": 12,
   "id": "fcab304f",
   "metadata": {},
   "outputs": [],
   "source": [
    "model.compile(\n",
    "  optimizer='adam',\n",
    "  loss=tf.losses.SparseCategoricalCrossentropy(from_logits=True),\n",
    "  metrics=['accuracy'])"
   ]
  },
  {
   "cell_type": "code",
   "execution_count": 15,
   "id": "dd3ec6a3",
   "metadata": {},
   "outputs": [
    {
     "name": "stdout",
     "output_type": "stream",
     "text": [
      "Epoch 1/30\n",
      "131/131 [==============================] - 43s 325ms/step - loss: 1.3939e-04 - accuracy: 1.0000 - val_loss: 0.1451 - val_accuracy: 0.9827\n",
      "Epoch 2/30\n",
      "131/131 [==============================] - 42s 319ms/step - loss: 4.6210e-05 - accuracy: 1.0000 - val_loss: 0.1484 - val_accuracy: 0.9837\n",
      "Epoch 3/30\n",
      "131/131 [==============================] - 42s 321ms/step - loss: 3.4079e-05 - accuracy: 1.0000 - val_loss: 0.1514 - val_accuracy: 0.9837\n",
      "Epoch 4/30\n",
      "131/131 [==============================] - 42s 318ms/step - loss: 2.7210e-05 - accuracy: 1.0000 - val_loss: 0.1541 - val_accuracy: 0.9837\n",
      "Epoch 5/30\n",
      "131/131 [==============================] - 42s 318ms/step - loss: 2.2693e-05 - accuracy: 1.0000 - val_loss: 0.1565 - val_accuracy: 0.9837\n",
      "Epoch 6/30\n",
      "131/131 [==============================] - 42s 320ms/step - loss: 1.9431e-05 - accuracy: 1.0000 - val_loss: 0.1586 - val_accuracy: 0.9837\n",
      "Epoch 7/30\n",
      "131/131 [==============================] - 42s 318ms/step - loss: 1.6895e-05 - accuracy: 1.0000 - val_loss: 0.1607 - val_accuracy: 0.9837\n",
      "Epoch 8/30\n",
      "131/131 [==============================] - 42s 319ms/step - loss: 1.4828e-05 - accuracy: 1.0000 - val_loss: 0.1626 - val_accuracy: 0.9837\n",
      "Epoch 9/30\n",
      "131/131 [==============================] - 42s 318ms/step - loss: 1.3139e-05 - accuracy: 1.0000 - val_loss: 0.1645 - val_accuracy: 0.9837\n",
      "Epoch 10/30\n",
      "131/131 [==============================] - 42s 318ms/step - loss: 1.1740e-05 - accuracy: 1.0000 - val_loss: 0.1662 - val_accuracy: 0.9837\n",
      "Epoch 11/30\n",
      "131/131 [==============================] - 42s 317ms/step - loss: 1.0519e-05 - accuracy: 1.0000 - val_loss: 0.1680 - val_accuracy: 0.9837\n",
      "Epoch 12/30\n",
      "131/131 [==============================] - 41s 317ms/step - loss: 9.4656e-06 - accuracy: 1.0000 - val_loss: 0.1697 - val_accuracy: 0.9837\n",
      "Epoch 13/30\n",
      "131/131 [==============================] - 41s 316ms/step - loss: 8.5541e-06 - accuracy: 1.0000 - val_loss: 0.1713 - val_accuracy: 0.9837\n",
      "Epoch 14/30\n",
      "131/131 [==============================] - 41s 316ms/step - loss: 7.7533e-06 - accuracy: 1.0000 - val_loss: 0.1728 - val_accuracy: 0.9837\n",
      "Epoch 15/30\n",
      "131/131 [==============================] - 42s 317ms/step - loss: 7.0505e-06 - accuracy: 1.0000 - val_loss: 0.1742 - val_accuracy: 0.9827\n",
      "Epoch 16/30\n",
      "131/131 [==============================] - 41s 316ms/step - loss: 6.4295e-06 - accuracy: 1.0000 - val_loss: 0.1757 - val_accuracy: 0.9827\n",
      "Epoch 17/30\n",
      "131/131 [==============================] - 41s 315ms/step - loss: 5.8750e-06 - accuracy: 1.0000 - val_loss: 0.1771 - val_accuracy: 0.9827\n",
      "Epoch 18/30\n",
      "131/131 [==============================] - 41s 315ms/step - loss: 5.3792e-06 - accuracy: 1.0000 - val_loss: 0.1785 - val_accuracy: 0.9827\n",
      "Epoch 19/30\n",
      "131/131 [==============================] - 41s 315ms/step - loss: 4.9391e-06 - accuracy: 1.0000 - val_loss: 0.1798 - val_accuracy: 0.9827\n",
      "Epoch 20/30\n",
      "131/131 [==============================] - 41s 314ms/step - loss: 4.5409e-06 - accuracy: 1.0000 - val_loss: 0.1811 - val_accuracy: 0.9827\n",
      "Epoch 21/30\n",
      "131/131 [==============================] - 41s 313ms/step - loss: 4.1812e-06 - accuracy: 1.0000 - val_loss: 0.1824 - val_accuracy: 0.9827\n",
      "Epoch 22/30\n",
      "131/131 [==============================] - 41s 314ms/step - loss: 3.8536e-06 - accuracy: 1.0000 - val_loss: 0.1837 - val_accuracy: 0.9827\n",
      "Epoch 23/30\n",
      "131/131 [==============================] - 41s 314ms/step - loss: 3.5539e-06 - accuracy: 1.0000 - val_loss: 0.1849 - val_accuracy: 0.9827\n",
      "Epoch 24/30\n",
      "131/131 [==============================] - 41s 315ms/step - loss: 3.2821e-06 - accuracy: 1.0000 - val_loss: 0.1862 - val_accuracy: 0.9827\n",
      "Epoch 25/30\n",
      "131/131 [==============================] - 41s 311ms/step - loss: 3.0307e-06 - accuracy: 1.0000 - val_loss: 0.1875 - val_accuracy: 0.9827\n",
      "Epoch 26/30\n",
      "131/131 [==============================] - 41s 310ms/step - loss: 2.8004e-06 - accuracy: 1.0000 - val_loss: 0.1887 - val_accuracy: 0.9827\n",
      "Epoch 27/30\n",
      "131/131 [==============================] - 41s 314ms/step - loss: 2.5901e-06 - accuracy: 1.0000 - val_loss: 0.1899 - val_accuracy: 0.9827\n",
      "Epoch 28/30\n",
      "131/131 [==============================] - 41s 311ms/step - loss: 2.3959e-06 - accuracy: 1.0000 - val_loss: 0.1911 - val_accuracy: 0.9827\n",
      "Epoch 29/30\n",
      "131/131 [==============================] - 41s 312ms/step - loss: 2.2175e-06 - accuracy: 1.0000 - val_loss: 0.1924 - val_accuracy: 0.9827\n",
      "Epoch 30/30\n",
      "131/131 [==============================] - 41s 311ms/step - loss: 2.0545e-06 - accuracy: 1.0000 - val_loss: 0.1936 - val_accuracy: 0.9827\n"
     ]
    }
   ],
   "source": [
    "logdir = os.path.join(\n",
    "    \"logs\", datetime.datetime.now().strftime(\"%Y%m%d-%H%M%S\"))\n",
    "tensorboard_callback = tf.keras.callbacks.TensorBoard(\n",
    "    log_dir=logdir, histogram_freq=1)\n",
    "\n",
    "history = model.fit(\n",
    "  train_ds,\n",
    "  validation_data=val_ds,\n",
    "  epochs=30,\n",
    "  callbacks=[tensorboard_callback]\n",
    ")"
   ]
  },
  {
   "cell_type": "code",
   "execution_count": 16,
   "id": "201527c2",
   "metadata": {},
   "outputs": [
    {
     "data": {
      "image/png": "[encoded data removed]",
      "text/plain": [
       "<Figure size 720x360 with 2 Axes>"
      ]
     },
     "metadata": {
      "needs_background": "light"
     },
     "output_type": "display_data"
    }
   ],
   "source": [
    "# Plot\n",
    "import matplotlib.pyplot as plt\n",
    "nrows = 1\n",
    "ncols = 2\n",
    "fig = plt.figure(figsize=(10, 5))\n",
    "\n",
    "for idx, key in enumerate([\"loss\", \"accuracy\"]):\n",
    "    ax = fig.add_subplot(nrows, ncols, idx+1)\n",
    "    plt.plot(history.history[key])\n",
    "    plt.plot(history.history[\"val_{}\".format(key)])\n",
    "    plt.title(\"model {}\".format(key))\n",
    "    plt.ylabel(key)\n",
    "    plt.xlabel(\"epoch\")\n",
    "    plt.legend([\"train\", \"validation\"], loc=\"upper left\");"
   ]
  },
  {
   "cell_type": "code",
   "execution_count": 17,
   "id": "21b7e1a5",
   "metadata": {},
   "outputs": [
    {
     "data": {
      "image/png": "[encoded data removed]",
      "text/plain": [
       "<IPython.core.display.Image object>"
      ]
     },
     "execution_count": 17,
     "metadata": {},
     "output_type": "execute_result"
    }
   ],
   "source": [
    "tf.keras.utils.plot_model(\n",
    "    model=model, to_file=\"xray_model.png\", show_shapes=False, rankdir=\"LR\")"
   ]
  },
  {
   "cell_type": "code",
   "execution_count": 18,
   "id": "69fd94b9",
   "metadata": {},
   "outputs": [
    {
     "data": {
      "text/plain": [
       "<bound method Model.summary of <keras.engine.sequential.Sequential object at 0x7f4825c9c150>>"
      ]
     },
     "execution_count": 18,
     "metadata": {},
     "output_type": "execute_result"
    }
   ],
   "source": [
    "model.summary"
   ]
  },
  {
   "cell_type": "code",
   "execution_count": null,
   "id": "94e395c6",
   "metadata": {},
   "outputs": [],
   "source": []
  }
 ],
 "metadata": {
  "environment": {
   "name": "tf2-gpu.2-1.m71",
   "type": "gcloud",
   "uri": "gcr.io/deeplearning-platform-release/tf2-gpu.2-1:m71"
  },
  "kernelspec": {
   "display_name": "Python 3",
   "language": "python",
   "name": "python3"
  },
  "language_info": {
   "codemirror_mode": {
    "name": "ipython",
    "version": 3
   },
   "file_extension": ".py",
   "mimetype": "text/x-python",
   "name": "python",
   "nbconvert_exporter": "python",
   "pygments_lexer": "ipython3",
   "version": "3.7.10"
  }
 },
 "nbformat": 4,
 "nbformat_minor": 5
}
